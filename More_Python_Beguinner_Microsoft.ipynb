{
 "cells": [
  {
   "cell_type": "code",
   "execution_count": 4,
   "metadata": {},
   "outputs": [
    {
     "name": "stdout",
     "output_type": "stream",
     "text": [
      "hello Jessica\n"
     ]
    }
   ],
   "source": [
    "def hello_name(name):\n",
    "    print('hello ' + name)\n",
    "hello_name('Jessica')"
   ]
  },
  {
   "cell_type": "code",
   "execution_count": 8,
   "metadata": {},
   "outputs": [
    {
     "name": "stdout",
     "output_type": "stream",
     "text": [
      "[{'name': 'Jessica', 'age': 28}, {'name': 'Pedro', 'age': 29}]\n",
      "[{'name': 'Pedro', 'age': 29}, {'name': 'Jessica', 'age': 28}]\n"
     ]
    }
   ],
   "source": [
    "#Lambda functions helps, to organize the dictionaries, alphabetically or length\n",
    "\n",
    "persons=[{'name':'Jessica', 'age':28},{'name':'Pedro', 'age':29}]\n",
    "x=persons.sort(key=lambda item: item['name'])\n",
    "#sort alphabethically the names\n",
    "print(persons)\n",
    "\n",
    "x=persons.sort(key=lambda item: len(item['name']))\n",
    "#sort lenght of the names\n",
    "print(persons)"
   ]
  },
  {
   "cell_type": "code",
   "execution_count": 14,
   "metadata": {},
   "outputs": [
    {
     "name": "stdout",
     "output_type": "stream",
     "text": [
      "Hello Jessica\n",
      "Hello Jess\n"
     ]
    }
   ],
   "source": [
    "#constructors and functions\n",
    "#constrctors def __int__(self,name):\n",
    "#creating a class with constructors\n",
    "\n",
    "class Presenters():\n",
    "    def __init__( self , name ): #constructor\n",
    "        self.name=name\n",
    "    def say_hello(self): #function\n",
    "        print('Hello ' + self.name)\n",
    "\n",
    "presenter=Presenters('Jess')\n",
    "presenter.name='Jessica'\n",
    "presenter.say_hello()\n",
    "\n",
    "presenter=Presenters('Jess') #which means is taking the name from the constructor and not from the class\n",
    "#presenter.name='Jessica'\n",
    "presenter.say_hello()\n"
   ]
  },
  {
   "cell_type": "code",
   "execution_count": 30,
   "metadata": {},
   "outputs": [
    {
     "name": "stdout",
     "output_type": "stream",
     "text": [
      "I am tired\n",
      "Ode to usb\n",
      "Is this a student? True\n",
      "student is a person? True\n",
      "True\n"
     ]
    }
   ],
   "source": [
    "#Inheritance allows us to define a class that inherits all the methods and properties from another class, to connect objects with their characteristics\n",
    "\n",
    "class Person: #parent class\n",
    "\tdef __init__(self, name):\n",
    "\t\tself.name = name\n",
    "\tdef say_hello(self):\n",
    "\t\tprint('Hello, ' + self.name)\n",
    "\n",
    "class Student(Person): #using an inheritage class\n",
    "\tdef __init__(self, name, school): #constructor \n",
    "\t\tsuper().__init__(name) #how I call previous class\n",
    "\t\tself.school = school\n",
    "\tdef sing_school_song(self): \n",
    "\t\tprint('Ode to ' + self.school)\n",
    "\tdef say_hello(self):\n",
    "\t\tprint('I am tired')\n",
    "\tdef __str__(self):\n",
    "\t\treturn f'{self.name} attends {self.shcool}'\n",
    "\n",
    "\n",
    "student = Student('Jess','usb') \n",
    "student.say_hello()\n",
    "student.sing_school_song()\n",
    "\n",
    "#what are you?\n",
    "print(f'Is this a student? {isinstance(student, Student)}') #student is a Student\n",
    "print(f'student is a person? {isinstance(student, Person)}') #student is a person\n",
    "print(issubclass(Student, Person)) #Student class is inside person class\n"
   ]
  },
  {
   "cell_type": "code",
   "execution_count": 34,
   "metadata": {},
   "outputs": [
    {
     "name": "stdout",
     "output_type": "stream",
     "text": [
      "Connecting to database on Some_Server\n",
      "Log message from Sql Connection Demo\n"
     ]
    }
   ],
   "source": [
    "#Multiple inheritances\n",
    "class Loggable:\n",
    "    def __init__(self):\n",
    "        self.title = ''\n",
    "    def log(self):\n",
    "        print('Log message from ' + self.title)\n",
    "\n",
    "class Connection:\n",
    "    def __init__(self):\n",
    "        self.server = ''\n",
    "    def connect(self):\n",
    "        print('Connecting to database on ' + self.server)\n",
    "\n",
    "class SqlDatabase(Connection, Loggable): #inheritaged two classes\n",
    "    def __init__(self):\n",
    "        super().__init__() #using the parent class\n",
    "        self.title = 'Sql Connection Demo'\n",
    "        self.server = 'Some_Server'\n",
    "        \n",
    "\n",
    "def framework(item): \n",
    "    if isinstance(item, Connection): \n",
    "        item.connect() #the function connect\n",
    "    if isinstance(item, Loggable):\n",
    "        item.log() #the function log \n",
    "\n",
    "sql_connection = SqlDatabase()\n",
    "framework(sql_connection) #le doy los argumentos de SqlDatabase()"
   ]
  },
  {
   "cell_type": "code",
   "execution_count": 38,
   "metadata": {},
   "outputs": [
    {
     "name": "stdout",
     "output_type": "stream",
     "text": [
      "/home/jessica/Documents/Machine_Learning_Youtube_Video\n",
      "/home/jessica/Documents/Machine_Learning_Youtube_Video/new_file.txt\n",
      "False\n"
     ]
    }
   ],
   "source": [
    "#Working with paths, and files\n",
    "from pathlib import Path \n",
    "#where I am?? pwd\n",
    "cwd=Path.cwd()\n",
    "print(cwd)\n",
    "#create a  full path and file name\n",
    "new_file = Path.joinpath(cwd, \"new_file.txt\")\n",
    "print(new_file)\n",
    "#does this file exists?\n",
    "print(new_file.exists())"
   ]
  },
  {
   "cell_type": "code",
   "execution_count": 47,
   "metadata": {},
   "outputs": [
    {
     "name": "stdout",
     "output_type": "stream",
     "text": [
      "Current directory: /home/jessica/Documents/Machine_Learning_Youtube_Video\n",
      "File name: demo_file.txt\n",
      "File extension: .txt\n",
      "Parent folder: Machine_Learning_Youtube_Video\n",
      "/home/jessica/Documents/Poster\n",
      "/home/jessica/Documents/Last_Papers\n",
      "/home/jessica/Documents/MLtutorial\n",
      "/home/jessica/Documents/geant4\n",
      "/home/jessica/Documents/Perovskita_10B\n",
      "/home/jessica/Documents/Clases_PhD\n",
      "/home/jessica/Documents/Milos_Thesis\n",
      "/home/jessica/Documents/MultiScan\n",
      "/home/jessica/Documents/CAEN_Library\n",
      "/home/jessica/Documents/Artificial Inteligence course\n",
      "/home/jessica/Documents/Zoom\n",
      "/home/jessica/Documents/results_Matteo_Paper_2SIPM\n",
      "/home/jessica/Documents/Computing\n",
      "/home/jessica/Documents/Certificados\n",
      "/home/jessica/Documents/Machine_Learning_Youtube_Video\n",
      "/home/jessica/Documents/Neural_Network_Lessons\n",
      "/home/jessica/Documents/Tesis_Jessica\n",
      "/home/jessica/Documents/Board_Padova_SiPM_HAMMATSU\n",
      "/home/jessica/Documents/TEST_Sara_Detectors\n",
      "/home/jessica/Documents/.ipynb_checkpoints\n",
      "/home/jessica/Documents/ENTRANCE\n",
      "/home/jessica/Documents/Nuclear Astrophysics\n",
      "/home/jessica/Documents/Statistic\n"
     ]
    }
   ],
   "source": [
    "#working with files\n",
    "cwd=Path.cwd()\n",
    "print('Current directory: ' + str(cwd))\n",
    "#create a  full path and file name\n",
    "demo_file = Path(Path.joinpath(cwd, \"demo_file.txt\"))\n",
    "#get file name\n",
    "print('File name: ' + str(demo_file.name))\n",
    "#get the extension\n",
    "print('File extension: ' + str(demo_file.suffix))\n",
    "#get the folder\n",
    "print('Parent folder: ' + str(demo_file.parent.name))\n",
    "#see all the files I have in my directory \n",
    "parent=cwd.parent\n",
    "for child in parent.iterdir():\n",
    "    if child.is_dir():\n",
    "        print(child)\n"
   ]
  },
  {
   "cell_type": "code",
   "execution_count": 68,
   "metadata": {},
   "outputs": [
    {
     "name": "stdout",
     "output_type": "stream",
     "text": [
      "\n",
      "Can I write to this file? True\n",
      "\n"
     ]
    }
   ],
   "source": [
    "#writting a file \n",
    "# Open output.txt as a text file for writing\n",
    "stream = open('output.txt', 'wt') #wt write a file\n",
    "\n",
    "#to check if I can write on it \n",
    "print('\\nCan I write to this file? ' + str(stream.writable()) + '\\n')\n",
    "\n",
    "stream.write('H') # Write a single string \n",
    "stream.writelines(['ello',' ','world']) # Write one or more strings\n",
    "stream.write('\\n') # Write a new line\n",
    "\n",
    "names = ['Susan','Christopher']\n",
    "stream.writelines(names)\n",
    "\n",
    "# Here's a neat trick to insert a new line between items in the list\n",
    "stream.write('\\n')  # Write a new line\n",
    "stream.writelines('\\n'.join(names)) #it separates the names with a line\n",
    "stream.close() #Flush stream and close\n",
    "\n"
   ]
  },
  {
   "cell_type": "code",
   "execution_count": 70,
   "metadata": {},
   "outputs": [
    {
     "name": "stdout",
     "output_type": "stream",
     "text": [
      "\n",
      "Is this readable? True\n",
      "\n",
      "Read one character : Hel\n",
      "\n",
      "Read to end of line : lo world\n",
      "\n",
      "Read all lines to end of file :['SusanChristopher\\n', 'Susan\\n', 'Christopher']\n"
     ]
    }
   ],
   "source": [
    "#opening a file \n",
    "#stream = open(file_name, mode, buffer_size)\n",
    "#modes: r-read(default), w-truncate and write, a-append if file exists, x-write, + - updating \n",
    "#buffer size: t-Text (default), b-binary\n",
    "# Open file demo.txt and read the contents\n",
    "stream = open('./output.txt', 'rt')\n",
    "print('\\nIs this readable? ' + str(stream.readable()))\n",
    "print('\\nRead one character : ' + stream.read(3))\n",
    "print('\\nRead to end of line : ' + stream.readline())\n",
    "print('Read all lines to end of file :' + str(stream.readlines()))"
   ]
  },
  {
   "cell_type": "code",
   "execution_count": 81,
   "metadata": {},
   "outputs": [
    {
     "name": "stdout",
     "output_type": "stream",
     "text": [
      "Read all lines to end of file :['cools hola!']\n"
     ]
    }
   ],
   "source": [
    "# Open manage.txt file to write text\n",
    "stream = open('manage.txt', 'wt')\n",
    "\n",
    "#Write the word demo to the file stream\n",
    "stream.write('demos hola!')\n",
    "\n",
    "# Move back to the start of the file stream\n",
    "stream.seek(0)\n",
    "\n",
    "#write the word cool to the file stream\n",
    "stream.write('cool')\n",
    "\n",
    "#Flush the file stream contents to the file buffer\n",
    "#stream.flush()\n",
    "\n",
    "# Flush the file stream and close the file\n",
    "stream.close()\n",
    "\n",
    "\n",
    "#Open manage.txt file to read\n",
    "stream = open('manage.txt', 'rt')\n",
    "print('Read all lines to end of file :' + str(stream.readlines()))\n"
   ]
  },
  {
   "cell_type": "code",
   "execution_count": 84,
   "metadata": {},
   "outputs": [
    {
     "name": "stdout",
     "output_type": "stream",
     "text": [
      "Read all lines to end of file :['Lorem ipsum dolar']\n"
     ]
    }
   ],
   "source": [
    "#when we want to be sure that our file will be close, because if we dont do it an error will appear\n",
    "#for that I can use the try or finally command or I can use the with, which will be the same \n",
    "try:\n",
    "\tstream = open('output.txt', 'wt')\n",
    "\tstream.write('Lorem ipsum dolar')\n",
    "finally:\n",
    "\tstream.close() # THIS IS REALLY IMPORTANT!!\n",
    "\n",
    "with open('output.txt', 'wt') as stream:\n",
    " stream.write('Lorem ipsum dolar')\n",
    "\n",
    "\n",
    "#Open manage.txt file to read\n",
    "stream = open('output.txt', 'rt')\n",
    "print('Read all lines to end of file :' + str(stream.readlines()))\n"
   ]
  },
  {
   "cell_type": "code",
   "execution_count": 85,
   "metadata": {},
   "outputs": [
    {
     "name": "stdout",
     "output_type": "stream",
     "text": [
      "Starting 2 second timer\n",
      "Completed 2 second timer\n",
      "Starting 3 second timer\n",
      "Completed 3 second timer\n",
      "The operation took 5.8 seconds\n"
     ]
    }
   ],
   "source": [
    "from timeit import default_timer\n",
    "import requests\n",
    "\n",
    "def load_data(delay):\n",
    "    print(f'Starting {delay} second timer')\n",
    "    text = requests.get(f'http://httpbin.org/delay/{delay}').text\n",
    "    print(f'Completed {delay} second timer')\n",
    "\n",
    "def run_demo():\n",
    "    start_time = default_timer()\n",
    "\n",
    "    two_data = load_data(2) #delay two seconds\n",
    "    three_data = load_data(3)  #delay three seconds\n",
    "\n",
    "    elapsed_time = default_timer() - start_time\n",
    "    print(f'The operation took {elapsed_time:.2} seconds')\n",
    "\n",
    "def main():\n",
    "    run_demo()\n",
    "\n",
    "main()"
   ]
  },
  {
   "cell_type": "code",
   "execution_count": null,
   "metadata": {},
   "outputs": [],
   "source": [
    "import matplotlib.pyplot as plt"
   ]
  }
 ],
 "metadata": {
  "kernelspec": {
   "display_name": "Python 3.6.9 64-bit",
   "language": "python",
   "name": "python3"
  },
  "language_info": {
   "codemirror_mode": {
    "name": "ipython",
    "version": 3
   },
   "file_extension": ".py",
   "mimetype": "text/x-python",
   "name": "python",
   "nbconvert_exporter": "python",
   "pygments_lexer": "ipython3",
   "version": "3.6.9"
  },
  "orig_nbformat": 4,
  "vscode": {
   "interpreter": {
    "hash": "31f2aee4e71d21fbe5cf8b01ff0e069b9275f58929596ceb00d14d90e3e16cd6"
   }
  }
 },
 "nbformat": 4,
 "nbformat_minor": 2
}
