{
 "cells": [
  {
   "cell_type": "code",
   "execution_count": 50,
   "metadata": {},
   "outputs": [
    {
     "name": "stdout",
     "output_type": "stream",
     "text": [
      "My name \n",
      "is:\n",
      "\n",
      "hello my name is : jessica delgado\n",
      "Jessica\n"
     ]
    }
   ],
   "source": [
    "x= input(\"What is your name: \")\n",
    "print(\"My name \\nis:\") #\\n is a new line\n",
    "print(x)\n",
    "name= 'jessica'\n",
    "last_name= 'delgado'\n",
    "print('hello my name is : ' + name + ' ' + last_name)\n",
    "print(name.capitalize())"
   ]
  },
  {
   "cell_type": "code",
   "execution_count": null,
   "metadata": {},
   "outputs": [
    {
     "name": "stdout",
     "output_type": "stream",
     "text": [
      "hello, delgado jessica\n"
     ]
    }
   ],
   "source": [
    "#string format \n",
    "first_name = 'jessica'\n",
    "last_name = 'delgado' \n",
    "output= 'hello, {1} {0}'.format(first_name,last_name)\n",
    "print(output)"
   ]
  },
  {
   "cell_type": "code",
   "execution_count": null,
   "metadata": {},
   "outputs": [
    {
     "name": "stdout",
     "output_type": "stream",
     "text": [
      "I am 28 years old\n"
     ]
    }
   ],
   "source": [
    "# convert numbers in string \n",
    "x=28\n",
    "print('I am ' +str(x) + ' years old')\n"
   ]
  },
  {
   "cell_type": "code",
   "execution_count": null,
   "metadata": {},
   "outputs": [
    {
     "name": "stdout",
     "output_type": "stream",
     "text": [
      "I am  years old\n"
     ]
    },
    {
     "ename": "ValueError",
     "evalue": "invalid literal for int() with base 10: ''",
     "output_type": "error",
     "traceback": [
      "\u001b[0;31m---------------------------------------------------------------------------\u001b[0m",
      "\u001b[0;31mValueError\u001b[0m                                Traceback (most recent call last)",
      "\u001b[0;32m<ipython-input-5-ba3e4c778f04>\u001b[0m in \u001b[0;36m<module>\u001b[0;34m\u001b[0m\n\u001b[1;32m      2\u001b[0m \u001b[0mx\u001b[0m\u001b[0;34m=\u001b[0m\u001b[0minput\u001b[0m\u001b[0;34m(\u001b[0m\u001b[0;34m'How old are you? '\u001b[0m\u001b[0;34m)\u001b[0m\u001b[0;34m\u001b[0m\u001b[0;34m\u001b[0m\u001b[0m\n\u001b[1;32m      3\u001b[0m \u001b[0mprint\u001b[0m\u001b[0;34m(\u001b[0m\u001b[0;34m'I am '\u001b[0m \u001b[0;34m+\u001b[0m \u001b[0mx\u001b[0m \u001b[0;34m+\u001b[0m \u001b[0;34m' years old'\u001b[0m\u001b[0;34m)\u001b[0m\u001b[0;34m\u001b[0m\u001b[0;34m\u001b[0m\u001b[0m\n\u001b[0;32m----> 4\u001b[0;31m \u001b[0my\u001b[0m\u001b[0;34m=\u001b[0m\u001b[0mint\u001b[0m\u001b[0;34m(\u001b[0m\u001b[0mx\u001b[0m\u001b[0;34m)\u001b[0m\u001b[0;34m+\u001b[0m\u001b[0;36m2\u001b[0m\u001b[0;34m\u001b[0m\u001b[0;34m\u001b[0m\u001b[0m\n\u001b[0m\u001b[1;32m      5\u001b[0m \u001b[0mprint\u001b[0m\u001b[0;34m(\u001b[0m\u001b[0;34m'So in two years I will be: '\u001b[0m \u001b[0;34m+\u001b[0m \u001b[0mstr\u001b[0m\u001b[0;34m(\u001b[0m\u001b[0my\u001b[0m\u001b[0;34m)\u001b[0m\u001b[0;34m)\u001b[0m\u001b[0;34m\u001b[0m\u001b[0;34m\u001b[0m\u001b[0m\n",
      "\u001b[0;31mValueError\u001b[0m: invalid literal for int() with base 10: ''"
     ]
    }
   ],
   "source": [
    "# now convert a string into number\n",
    "x=input('How old are you? ')\n",
    "print('I am ' + x + ' years old')\n",
    "y=int(x)+2\n",
    "print('So in two years I will be: ' + str(y))"
   ]
  },
  {
   "cell_type": "code",
   "execution_count": null,
   "metadata": {},
   "outputs": [
    {
     "name": "stdout",
     "output_type": "stream",
     "text": [
      "now make the multiplication: 71.10000000000001\n"
     ]
    }
   ],
   "source": [
    "x=input('enter a number: ')\n",
    "y=input('enter a second number: ')\n",
    "z=float(x)*float(y)\n",
    "print('now make the multiplication: ' + str(z) )\n"
   ]
  },
  {
   "cell_type": "code",
   "execution_count": null,
   "metadata": {},
   "outputs": [
    {
     "name": "stdout",
     "output_type": "stream",
     "text": [
      "Today is: 2022-07-28 15:06:18.870330\n"
     ]
    }
   ],
   "source": [
    "from datetime import datetime, timedelta\n",
    "current_date=datetime.now()\n",
    "print('Today is: ' + str(current_date))"
   ]
  },
  {
   "cell_type": "code",
   "execution_count": null,
   "metadata": {},
   "outputs": [
    {
     "name": "stdout",
     "output_type": "stream",
     "text": [
      "Which day was one week ago? 2022-07-21 15:06:41.267914\n"
     ]
    }
   ],
   "source": [
    "current_date=datetime.now()\n",
    "one_week_ago=timedelta(days=7) #also can use weeks instead of days\n",
    "days=current_date-one_week_ago\n",
    "\n",
    "print('Which day was one week ago? ' + str(days))"
   ]
  },
  {
   "cell_type": "code",
   "execution_count": null,
   "metadata": {},
   "outputs": [
    {
     "name": "stdout",
     "output_type": "stream",
     "text": [
      "My birthday is: 1993-12-16 00:00:00\n"
     ]
    }
   ],
   "source": [
    "question=input('when is your birthday dd/mm/yyyy? ')\n",
    "birthday=datetime.strptime(question, '%d/%m/%Y')\n",
    "print('My birthday is: ' +str(birthday))"
   ]
  },
  {
   "cell_type": "code",
   "execution_count": null,
   "metadata": {},
   "outputs": [
    {
     "name": "stdout",
     "output_type": "stream",
     "text": [
      "2022-07-28 00:00:00\n"
     ]
    }
   ],
   "source": [
    "dia='28/07, 2022'\n",
    "hoy=datetime.strptime(dia, '%d/%m, %Y')\n",
    "print(hoy)\n"
   ]
  },
  {
   "cell_type": "code",
   "execution_count": null,
   "metadata": {},
   "outputs": [
    {
     "name": "stdout",
     "output_type": "stream",
     "text": [
      "7\n"
     ]
    }
   ],
   "source": [
    "today= datetime.now()\n",
    "print(str(today.minute))"
   ]
  },
  {
   "cell_type": "markdown",
   "metadata": {},
   "source": [
    "\n",
    "#error handling and debugging \n",
    "#error in the code that I can not predict, debbuging I know the error\n",
    "#syntax error, error how writting some parenthesis \n",
    "#runtime error\n",
    "#bug I know where is the error, I know the code will crash"
   ]
  },
  {
   "cell_type": "code",
   "execution_count": null,
   "metadata": {},
   "outputs": [
    {
     "name": "stdout",
     "output_type": "stream",
     "text": [
      "\n",
      "tryingg\n",
      "it is not possible\n"
     ]
    }
   ],
   "source": [
    "#I know there is going to be an error but I make the code to continue with an anwser\n",
    "x=7\n",
    "y=0\n",
    "print()\n",
    "try: \n",
    "    print(x/y)\n",
    "except: \n",
    "    print('tryingg')\n",
    "finally: \n",
    "    print('it is not possible')"
   ]
  },
  {
   "cell_type": "code",
   "execution_count": null,
   "metadata": {},
   "outputs": [
    {
     "name": "stdout",
     "output_type": "stream",
     "text": [
      "Your taxes are: 0.0\n"
     ]
    }
   ],
   "source": [
    "price=input('How much it costs?')\n",
    "x=float(price)\n",
    "if x>1.:\n",
    "    tax=0.7\n",
    "else:\n",
    "    tax=0.\n",
    "print('Your taxes are: ' + str(tax))"
   ]
  },
  {
   "cell_type": "code",
   "execution_count": null,
   "metadata": {},
   "outputs": [
    {
     "name": "stdout",
     "output_type": "stream",
     "text": [
      "My country is: Canada\n",
      "Oh you are Canadian\n"
     ]
    }
   ],
   "source": [
    "your_country=input('What is your country?')\n",
    "print('My country is: ' + your_country)\n",
    "if your_country.lower()=='canada':\n",
    "   print('Oh you are Canadian')\n",
    "else:\n",
    "    print('Oh you are not Canadian')"
   ]
  },
  {
   "cell_type": "code",
   "execution_count": null,
   "metadata": {},
   "outputs": [
    {
     "name": "stdout",
     "output_type": "stream",
     "text": [
      "Your taxes are:0.4\n"
     ]
    }
   ],
   "source": [
    "x=input('Where do you live?')\n",
    "if x=='ontario' or x=='texas':\n",
    "    tax=0.2\n",
    "elif x in('alberta','massachuset','florida'): #another way to say the or \n",
    "    tax=0.4\n",
    "elif x=='nonavut':\n",
    "    tax=0.5\n",
    "else: #for the rest of the cases\n",
    "    tax=1\n",
    "print('Your taxes are:' + str(tax))"
   ]
  },
  {
   "cell_type": "code",
   "execution_count": null,
   "metadata": {},
   "outputs": [
    {
     "name": "stdout",
     "output_type": "stream",
     "text": [
      "your taxes are:0.5\n"
     ]
    }
   ],
   "source": [
    "your_country=input('What is your country?')\n",
    "your_state=input('Which state?')\n",
    "if your_country=='canada':\n",
    "    if your_state in('alberta','massachuset','florida'):\n",
    "        tax=0.5\n",
    "    else:\n",
    "        tax=0.8\n",
    "else:\n",
    "    tax=0\n",
    "print('your taxes are:'+ str(tax))"
   ]
  },
  {
   "cell_type": "code",
   "execution_count": null,
   "metadata": {},
   "outputs": [
    {
     "name": "stdout",
     "output_type": "stream",
     "text": [
      "not good\n"
     ]
    }
   ],
   "source": [
    "x=input('How much is your total grade? ')\n",
    "y=input('What is your lowest score?')\n",
    "if float(x)>0.85 and float(y)>0.7:\n",
    "    print('Well done')\n",
    "else:\n",
    "    print('not good')"
   ]
  },
  {
   "cell_type": "code",
   "execution_count": null,
   "metadata": {},
   "outputs": [
    {
     "name": "stdout",
     "output_type": "stream",
     "text": [
      "Well done\n"
     ]
    }
   ],
   "source": [
    "x=input('How much is your total grade? ')\n",
    "y=input('What is your lowest score?')\n",
    "if float(x)>0.85 and float(y)>0.7:\n",
    "    z=True #it creates a boolean variable \n",
    "else:\n",
    "    z=False\n",
    "if z:\n",
    "    print('Well done')"
   ]
  },
  {
   "cell_type": "code",
   "execution_count": null,
   "metadata": {},
   "outputs": [
    {
     "name": "stdout",
     "output_type": "stream",
     "text": [
      "['ana', 'paola', 'sara']\n",
      "[98, 100]\n",
      "ana\n"
     ]
    }
   ],
   "source": [
    "#list a collection of items\n",
    "x=['ana','paola','sara']\n",
    "y=[]\n",
    "y.append(98)\n",
    "y.append(100)\n",
    "print(x)\n",
    "print(y)\n",
    "print(x[0])"
   ]
  },
  {
   "cell_type": "code",
   "execution_count": null,
   "metadata": {},
   "outputs": [
    {
     "name": "stdout",
     "output_type": "stream",
     "text": [
      "array('d', [5.0, 2.0, 3.0, 4.0])\n",
      "array('d', [100.0, 98.0])\n"
     ]
    }
   ],
   "source": [
    "from array import array #array another list of items collection\n",
    "score=array('d')\n",
    "score.append(100)\n",
    "score.append(98)\n",
    "x=array('d',[5,2,3,4])\n",
    "print(x)\n",
    "print(score)"
   ]
  },
  {
   "cell_type": "markdown",
   "metadata": {},
   "source": [
    "AN ARRAY NEEDS THE SAME TYPE OF ITEMS, NUMERICAL DATA TYPE\n",
    "A LIST ANYTHING CAN BE INSIDE"
   ]
  },
  {
   "cell_type": "code",
   "execution_count": null,
   "metadata": {},
   "outputs": [
    {
     "name": "stdout",
     "output_type": "stream",
     "text": [
      "3\n",
      "['ana', 'pedro', 'paola', 'sara']\n",
      "['pedro', 'paola', 'sara']\n"
     ]
    }
   ],
   "source": [
    "#list a collection of items\n",
    "x=['ana','paola','sara']\n",
    "print(len(x))\n",
    "x.insert(-2,'pedro')\n",
    "print(x)\n",
    "prensenters=x[1:]\n",
    "print(prensenters)"
   ]
  },
  {
   "cell_type": "code",
   "execution_count": null,
   "metadata": {},
   "outputs": [
    {
     "name": "stdout",
     "output_type": "stream",
     "text": [
      "{'firts': 'jessica', 'second': 'carolina', 'last': 'delgado'}\n",
      "delgado\n"
     ]
    }
   ],
   "source": [
    "#DICTIONARY, como lista pero en vez de tener un index numerico uso key values\n",
    "person={'firts':'jessica', 'second':'carolina'} #first is the key and jessica de value, en jason es asi\n",
    "person['last']='delgado'\n",
    "print(person)\n",
    "print(person['last'])"
   ]
  },
  {
   "cell_type": "code",
   "execution_count": null,
   "metadata": {},
   "outputs": [
    {
     "name": "stdout",
     "output_type": "stream",
     "text": [
      "{'first': 'jessica', 'last': 'delgado'}\n",
      "['jessica', 'delgado']\n",
      "jessica\n",
      "jessica\n"
     ]
    }
   ],
   "source": [
    "dictionary={}\n",
    "dictionary['first']='jessica'\n",
    "dictionary['last']='delgado'\n",
    "\n",
    "list=[]\n",
    "list.append('jessica')\n",
    "list.append('delgado')\n",
    "\n",
    "print(dictionary)\n",
    "print(list)\n",
    "\n",
    "print(dictionary['first'])\n",
    "print(list[0])"
   ]
  },
  {
   "cell_type": "code",
   "execution_count": null,
   "metadata": {},
   "outputs": [
    {
     "name": "stdout",
     "output_type": "stream",
     "text": [
      "laura\n",
      "sara\n",
      "pedro\n",
      "0\n",
      "1\n",
      "2\n",
      "3\n"
     ]
    }
   ],
   "source": [
    "for name in ['laura', 'sara', 'pedro']:\n",
    "    print(name)\n",
    "for x in range(0,4): #empieza en 0 y son cuatro items\n",
    "    print(x)"
   ]
  },
  {
   "cell_type": "code",
   "execution_count": 51,
   "metadata": {},
   "outputs": [
    {
     "name": "stdout",
     "output_type": "stream",
     "text": [
      "laura\n",
      "sara\n",
      "pedro\n"
     ]
    }
   ],
   "source": [
    "#looping with a condition, the code does the same that the previous code with the for\n",
    "names=['laura', 'sara', 'pedro']\n",
    "index=0\n",
    "while index<len(names):\n",
    "    print(names[index])\n",
    "    index=index+1"
   ]
  },
  {
   "cell_type": "code",
   "execution_count": 62,
   "metadata": {},
   "outputs": [
    {
     "name": "stdout",
     "output_type": "stream",
     "text": [
      "hello\n",
      "2022-07-29 12:00:34.210059\n",
      "\n"
     ]
    }
   ],
   "source": [
    "from datetime import datetime\n",
    "def print_datetime(task_name): #an argument to the function \n",
    "    print(task_name)\n",
    "    print(datetime.now())\n",
    "    print()\n",
    "\n",
    "print_datetime('hello')\n"
   ]
  },
  {
   "cell_type": "code",
   "execution_count": 74,
   "metadata": {},
   "outputs": [
    {
     "name": "stdout",
     "output_type": "stream",
     "text": [
      "your initials are:JD\n"
     ]
    }
   ],
   "source": [
    "def your_initials(name,last_name):\n",
    "    x=name[0:1].upper()\n",
    "    y=last_name[0:1].upper()\n",
    "    print('your initials are:' + x+y)\n",
    "your_initials('jessica', 'delgado')"
   ]
  },
  {
   "cell_type": "code",
   "execution_count": 79,
   "metadata": {},
   "outputs": [
    {
     "name": "stdout",
     "output_type": "stream",
     "text": [
      "your initials are: JD\n"
     ]
    }
   ],
   "source": [
    "def initial_letter(name):\n",
    "    initial=name[0:1].upper()\n",
    "    return initial\n",
    "\n",
    "first_name=input('Whats your name?')\n",
    "last_name=input('Whats your last name?')\n",
    "print('your initials are: ' + initial_letter(first_name)+ initial_letter(last_name))"
   ]
  },
  {
   "cell_type": "code",
   "execution_count": 80,
   "metadata": {},
   "outputs": [
    {
     "name": "stdout",
     "output_type": "stream",
     "text": [
      "your initials are: Jd\n"
     ]
    }
   ],
   "source": [
    "#make it upper case only if I ask for it\n",
    "def initial_letter(name,upper_case):\n",
    "    if upper_case:\n",
    "        initial=name[0:1].upper()\n",
    "    else:\n",
    "        initial=name[0:1]\n",
    "    return initial\n",
    "\n",
    "first_name=input('Whats your name?')\n",
    "last_name=input('Whats your last name?')\n",
    "print('your initials are: ' + initial_letter(first_name,True)+ initial_letter(last_name,False))"
   ]
  },
  {
   "cell_type": "code",
   "execution_count": 82,
   "metadata": {},
   "outputs": [
    {
     "name": "stdout",
     "output_type": "stream",
     "text": [
      "your initials are: jD\n",
      "your initials are: jD\n"
     ]
    }
   ],
   "source": [
    "def initial_letter(name,upper_case=True): #now I make the defautl the true, if I do not write anything in the function\n",
    "    #it will automatically be True\n",
    "    if upper_case:\n",
    "        initial=name[0:1].upper()\n",
    "    else:\n",
    "        initial=name[0:1]\n",
    "    return initial\n",
    "\n",
    "first_name=input('Whats your name?')\n",
    "last_name=input('Whats your last name?')\n",
    "print('your initials are: ' + initial_letter(first_name,False)+ initial_letter(last_name))\n",
    "\n",
    "print('your initials are: ' + initial_letter(upper_case=False,name=first_name)+ initial_letter(last_name))\n",
    "#tambien pueden ponerse los argumentos en un orden distinto pero tienen que mencionarse"
   ]
  },
  {
   "cell_type": "code",
   "execution_count": 87,
   "metadata": {},
   "outputs": [
    {
     "name": "stdout",
     "output_type": "stream",
     "text": [
      "oh warning!\n",
      "Not warning\n"
     ]
    }
   ],
   "source": [
    "from helpers import display\n",
    "display('Not warning',True)"
   ]
  },
  {
   "cell_type": "markdown",
   "metadata": {},
   "source": [
    "Packages is a public collection of modules \n",
    "to installa packages always use pip\n",
    "pip install colorama"
   ]
  },
  {
   "cell_type": "markdown",
   "metadata": {},
   "source": [
    "We are going to create a virtual enviroment, where we going to installa all the packeges needed for the project. This is done because sometimes we need diffrente versions of a same packages, and If we install it globally it can be a problem.\n",
    "how we create the virtual enviroment in the terminal I create the folder virtualenv virtual_env, then I activate it source virtual_env/bin/activate, and now I am in my virtual enviroment, now I import there whatever I want "
   ]
  },
  {
   "cell_type": "code",
   "execution_count": 97,
   "metadata": {},
   "outputs": [
    {
     "name": "stdout",
     "output_type": "stream",
     "text": [
      "Not warning\n",
      "\u001b[34mHello\n"
     ]
    }
   ],
   "source": [
    "from helpers import display\n",
    "display('Not warning')\n",
    "print(Fore.BLUE + 'Hello')"
   ]
  },
  {
   "cell_type": "code",
   "execution_count": 8,
   "metadata": {},
   "outputs": [
    {
     "name": "stdout",
     "output_type": "stream",
     "text": [
      "{\"name\": \"John\", \"age\": 30, \"city\": \"New York\"}\n"
     ]
    }
   ],
   "source": [
    "#convert dictionary to json file\n",
    "import json\n",
    "\n",
    "# a Python object (dict):\n",
    "x = {\n",
    "  \"name\": \"John\",\n",
    "  \"age\": 30,\n",
    "  \"city\": \"New York\"\n",
    "}\n",
    "\n",
    "# convert into JSON:\n",
    "y = json.dumps(x)\n",
    "\n",
    "# the result is a JSON string:\n",
    "print(y) "
   ]
  }
 ],
 "metadata": {
  "kernelspec": {
   "display_name": "Python 3.6.9 64-bit",
   "language": "python",
   "name": "python3"
  },
  "language_info": {
   "codemirror_mode": {
    "name": "ipython",
    "version": 3
   },
   "file_extension": ".py",
   "mimetype": "text/x-python",
   "name": "python",
   "nbconvert_exporter": "python",
   "pygments_lexer": "ipython3",
   "version": "3.6.9"
  },
  "orig_nbformat": 4,
  "vscode": {
   "interpreter": {
    "hash": "31f2aee4e71d21fbe5cf8b01ff0e069b9275f58929596ceb00d14d90e3e16cd6"
   }
  }
 },
 "nbformat": 4,
 "nbformat_minor": 2
}
